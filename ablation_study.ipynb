{
 "cells": [
  {
   "cell_type": "code",
   "execution_count": 10,
   "metadata": {
    "ExecuteTime": {
     "end_time": "2023-05-03T15:08:17.518165Z",
     "start_time": "2023-05-03T15:08:17.480167Z"
    },
    "collapsed": true
   },
   "outputs": [],
   "source": [
    "import pandas as pd\n",
    "\n",
    "def mean_sd(df: pd.DataFrame):\n",
    "    df = df[['test_auc', 'test_f1', 'test_macro_f1', 'test_micro_f1']]\n",
    "    df = pd.concat([df.mean(), df.std()], axis=1)\n",
    "    df.rename(columns={0: 'mean', 1: 'std'}, inplace=True)\n",
    "    df = df.round(3).iloc[[1, 3, 2, 0]]\n",
    "    print(df[\"mean\"].astype(str) + '$\\pm$' + df[\"std\"].astype(str))"
   ]
  },
  {
   "cell_type": "markdown",
   "metadata": {},
   "source": [
    "## Remove Contrastive Loss"
   ]
  },
  {
   "cell_type": "code",
   "execution_count": 25,
   "metadata": {
    "ExecuteTime": {
     "end_time": "2023-05-03T15:09:04.822338Z",
     "start_time": "2023-05-03T15:09:04.806294Z"
    }
   },
   "outputs": [],
   "source": [
    "gcl_bio_32 = pd.read_pickle(\"results/no_cl_loss/gat_cl_Biology_32.pkl\")\n",
    "gcl_law_32 = pd.read_pickle(\"results/no_cl_loss/gat_cl_Law_32.pkl\")\n",
    "gcl_psy_32 = pd.read_pickle(\"results/no_cl_loss/gat_cl_Psychology_32.pkl\")\n",
    "gcl_syd_32 = pd.read_pickle(\"results/no_cl_loss/gat_cl_Sydney_32.pkl\")\n",
    "gcl_cdf0_32 = pd.read_pickle(\"results/no_cl_loss/gat_cl_Cardiff0_32.pkl\")\n",
    "gcl_cdf1_32 = pd.read_pickle(\"results/no_cl_loss/gat_cl_Cardiff1_32.pkl\")"
   ]
  },
  {
   "cell_type": "code",
   "execution_count": 26,
   "metadata": {
    "ExecuteTime": {
     "end_time": "2023-05-03T15:09:05.495055Z",
     "start_time": "2023-05-03T15:09:05.483047Z"
    }
   },
   "outputs": [
    {
     "name": "stdout",
     "output_type": "stream",
     "text": [
      "test_f1           0.664$\\pm$0.01\n",
      "test_micro_f1    0.639$\\pm$0.007\n",
      "test_macro_f1    0.637$\\pm$0.007\n",
      "test_auc         0.688$\\pm$0.005\n",
      "dtype: object\n"
     ]
    }
   ],
   "source": [
    "mean_sd(gcl_bio_32)"
   ]
  },
  {
   "cell_type": "code",
   "execution_count": 27,
   "metadata": {
    "ExecuteTime": {
     "end_time": "2023-05-03T15:09:05.898774Z",
     "start_time": "2023-05-03T15:09:05.888776Z"
    }
   },
   "outputs": [
    {
     "name": "stdout",
     "output_type": "stream",
     "text": [
      "test_f1            0.8$\\pm$0.014\n",
      "test_micro_f1    0.685$\\pm$0.018\n",
      "test_macro_f1    0.529$\\pm$0.012\n",
      "test_auc         0.734$\\pm$0.006\n",
      "dtype: object\n"
     ]
    }
   ],
   "source": [
    "mean_sd(gcl_law_32)"
   ]
  },
  {
   "cell_type": "code",
   "execution_count": 28,
   "metadata": {
    "ExecuteTime": {
     "end_time": "2023-05-03T15:09:06.401902Z",
     "start_time": "2023-05-03T15:09:06.376902Z"
    }
   },
   "outputs": [
    {
     "name": "stdout",
     "output_type": "stream",
     "text": [
      "test_f1          0.665$\\pm$0.012\n",
      "test_micro_f1     0.59$\\pm$0.009\n",
      "test_macro_f1    0.568$\\pm$0.007\n",
      "test_auc          0.62$\\pm$0.006\n",
      "dtype: object\n"
     ]
    }
   ],
   "source": [
    "mean_sd(gcl_psy_32)"
   ]
  },
  {
   "cell_type": "code",
   "execution_count": 29,
   "metadata": {
    "ExecuteTime": {
     "end_time": "2023-05-03T15:09:06.803367Z",
     "start_time": "2023-05-03T15:09:06.778178Z"
    }
   },
   "outputs": [
    {
     "name": "stdout",
     "output_type": "stream",
     "text": [
      "test_f1          0.643$\\pm$0.017\n",
      "test_micro_f1    0.598$\\pm$0.011\n",
      "test_macro_f1    0.591$\\pm$0.009\n",
      "test_auc         0.658$\\pm$0.006\n",
      "dtype: object\n"
     ]
    }
   ],
   "source": [
    "mean_sd(gcl_syd_32)"
   ]
  },
  {
   "cell_type": "code",
   "execution_count": 30,
   "metadata": {
    "ExecuteTime": {
     "end_time": "2023-05-03T15:09:07.201541Z",
     "start_time": "2023-05-03T15:09:07.178537Z"
    }
   },
   "outputs": [
    {
     "name": "stdout",
     "output_type": "stream",
     "text": [
      "test_f1          0.629$\\pm$0.024\n",
      "test_micro_f1    0.639$\\pm$0.012\n",
      "test_macro_f1    0.639$\\pm$0.012\n",
      "test_auc         0.671$\\pm$0.007\n",
      "dtype: object\n"
     ]
    }
   ],
   "source": [
    "mean_sd(gcl_cdf0_32)"
   ]
  },
  {
   "cell_type": "code",
   "execution_count": 32,
   "metadata": {
    "ExecuteTime": {
     "end_time": "2023-05-03T15:09:08.436329Z",
     "start_time": "2023-05-03T15:09:08.426330Z"
    }
   },
   "outputs": [
    {
     "name": "stdout",
     "output_type": "stream",
     "text": [
      "test_f1          0.596$\\pm$0.012\n",
      "test_micro_f1    0.627$\\pm$0.006\n",
      "test_macro_f1    0.625$\\pm$0.007\n",
      "test_auc         0.656$\\pm$0.005\n",
      "dtype: object\n"
     ]
    }
   ],
   "source": [
    "mean_sd(gcl_cdf1_32)"
   ]
  },
  {
   "cell_type": "markdown",
   "metadata": {},
   "source": [
    "## Remove Intra Loss"
   ]
  },
  {
   "cell_type": "code",
   "execution_count": 17,
   "metadata": {
    "ExecuteTime": {
     "end_time": "2023-05-03T15:08:17.641258Z",
     "start_time": "2023-05-03T15:08:17.600259Z"
    }
   },
   "outputs": [],
   "source": []
  },
  {
   "cell_type": "markdown",
   "metadata": {},
   "source": [
    "## Remove Inter Loss"
   ]
  },
  {
   "cell_type": "markdown",
   "metadata": {},
   "source": [
    "## Remove Label Loss"
   ]
  },
  {
   "cell_type": "code",
   "execution_count": 17,
   "metadata": {
    "ExecuteTime": {
     "end_time": "2023-05-03T15:08:17.642258Z",
     "start_time": "2023-05-03T15:08:17.615260Z"
    }
   },
   "outputs": [],
   "source": []
  }
 ],
 "metadata": {
  "kernelspec": {
   "display_name": "Python 3 (ipykernel)",
   "language": "python",
   "name": "python3"
  },
  "language_info": {
   "codemirror_mode": {
    "name": "ipython",
    "version": 3
   },
   "file_extension": ".py",
   "mimetype": "text/x-python",
   "name": "python",
   "nbconvert_exporter": "python",
   "pygments_lexer": "ipython3",
   "version": "3.10.10"
  }
 },
 "nbformat": 4,
 "nbformat_minor": 1
}
